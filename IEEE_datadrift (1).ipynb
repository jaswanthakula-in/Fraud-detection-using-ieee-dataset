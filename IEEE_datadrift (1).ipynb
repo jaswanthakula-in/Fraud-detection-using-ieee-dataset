{
  "cells": [
    {
      "cell_type": "code",
      "execution_count": null,
      "metadata": {
        "colab": {
          "base_uri": "https://localhost:8080/",
          "height": 1000
        },
        "id": "6S58XGFnPdq4",
        "outputId": "8a6b43d5-bc5d-4826-ccf8-7928ea3759ab"
      },
      "outputs": [
        {
          "output_type": "stream",
          "name": "stderr",
          "text": [
            "<ipython-input-5-dfc4b1d9d6be>:18: SettingWithCopyWarning: \n",
            "A value is trying to be set on a copy of a slice from a DataFrame.\n",
            "Try using .loc[row_indexer,col_indexer] = value instead\n",
            "\n",
            "See the caveats in the documentation: https://pandas.pydata.org/pandas-docs/stable/user_guide/indexing.html#returning-a-view-versus-a-copy\n",
            "  X['balance_diff'] = X['newbalanceOrig'] - X['oldbalanceOrg']\n",
            "<ipython-input-5-dfc4b1d9d6be>:19: SettingWithCopyWarning: \n",
            "A value is trying to be set on a copy of a slice from a DataFrame.\n",
            "Try using .loc[row_indexer,col_indexer] = value instead\n",
            "\n",
            "See the caveats in the documentation: https://pandas.pydata.org/pandas-docs/stable/user_guide/indexing.html#returning-a-view-versus-a-copy\n",
            "  X['dest_balance_diff'] = X['newbalanceDest'] - X['oldbalanceDest']\n",
            "<ipython-input-5-dfc4b1d9d6be>:20: SettingWithCopyWarning: \n",
            "A value is trying to be set on a copy of a slice from a DataFrame.\n",
            "Try using .loc[row_indexer,col_indexer] = value instead\n",
            "\n",
            "See the caveats in the documentation: https://pandas.pydata.org/pandas-docs/stable/user_guide/indexing.html#returning-a-view-versus-a-copy\n",
            "  X['transaction_ratio'] = X['amount'] / (X['oldbalanceOrg'] + 1e-9)  # Avoid division by zero\n"
          ]
        },
        {
          "output_type": "stream",
          "name": "stdout",
          "text": [
            "Model Accuracy (Optimal Threshold): 0.9675353863659939\n",
            "Classification Report (Optimal Threshold):\n",
            "              precision    recall  f1-score   support\n",
            "\n",
            "           0       1.00      0.97      0.98   1906351\n",
            "           1       0.04      1.00      0.07      2435\n",
            "\n",
            "    accuracy                           0.97   1908786\n",
            "   macro avg       0.52      0.98      0.53   1908786\n",
            "weighted avg       1.00      0.97      0.98   1908786\n",
            "\n"
          ]
        },
        {
          "output_type": "display_data",
          "data": {
            "text/plain": [
              "<Figure size 800x600 with 2 Axes>"
            ],
            "image/png": "[encoded data removed]"
          },
          "metadata": {}
        },
        {
          "output_type": "stream",
          "name": "stdout",
          "text": [
            "\n",
            "--- Data Drift Monitoring using PSI ---\n",
            "PSI for amount: inf\n",
            "Significant drift detected in feature 'amount' (PSI: inf)\n"
          ]
        },
        {
          "output_type": "stream",
          "name": "stderr",
          "text": [
            "<ipython-input-5-dfc4b1d9d6be>:75: RuntimeWarning: divide by zero encountered in log\n",
            "  psi_values = (expected_percents - actual_percents) * np.log(expected_percents / actual_percents)\n"
          ]
        },
        {
          "output_type": "stream",
          "name": "stdout",
          "text": [
            "PSI for oldbalanceOrg: 0.000896312089842613\n",
            "PSI for newbalanceOrig: 0.0016444256164145662\n",
            "PSI for oldbalanceDest: 9.572023321632998e-07\n",
            "PSI for newbalanceDest: 2.5395089827414046e-07\n",
            "PSI for balance_diff: 9.923707149877757e-05\n",
            "PSI for dest_balance_diff: 1.2493797305961025\n",
            "Significant drift detected in feature 'dest_balance_diff' (PSI: 1.2493797305961025)\n",
            "PSI for transaction_ratio: inf\n",
            "Significant drift detected in feature 'transaction_ratio' (PSI: inf)\n"
          ]
        }
      ],
      "source": [
        "import numpy as np\n",
        "import pandas as pd\n",
        "import xgboost as xgb\n",
        "from sklearn.model_selection import train_test_split\n",
        "from sklearn.metrics import accuracy_score, classification_report, confusion_matrix, precision_recall_curve\n",
        "from sklearn.preprocessing import StandardScaler\n",
        "import matplotlib.pyplot as plt\n",
        "import seaborn as sns\n",
        "\n",
        "# Load and normalize data\n",
        "synthetic_financial = pd.read_csv('Synthetic_Financial_datasets_log.csv')\n",
        "\n",
        "# Define features and target\n",
        "X = synthetic_financial[['amount', 'oldbalanceOrg', 'newbalanceOrig', 'oldbalanceDest', 'newbalanceDest']]\n",
        "y = synthetic_financial['isFraud']\n",
        "\n",
        "# Feature Engineering and Normalization\n",
        "X['balance_diff'] = X['newbalanceOrig'] - X['oldbalanceOrg']\n",
        "X['dest_balance_diff'] = X['newbalanceDest'] - X['oldbalanceDest']\n",
        "X['transaction_ratio'] = X['amount'] / (X['oldbalanceOrg'] + 1e-9)  # Avoid division by zero\n",
        "\n",
        "# Normalize features\n",
        "scaler = StandardScaler()\n",
        "X_normalized = pd.DataFrame(scaler.fit_transform(X), columns=X.columns)\n",
        "\n",
        "# Split data into training and validation sets\n",
        "X_train, X_val, y_train, y_val = train_test_split(X_normalized, y, test_size=0.3, random_state=42)\n",
        "\n",
        "# Define XGBoost parameters and train model\n",
        "params = {\n",
        "    'objective': 'binary:logistic',\n",
        "    'max_depth': 4,\n",
        "    'learning_rate': 0.05,\n",
        "    'subsample': 0.7,\n",
        "    'colsample_bytree': 0.7,\n",
        "    'scale_pos_weight': len(y_train[y_train == 0]) / len(y_train[y_train == 1]),\n",
        "    'eval_metric': 'auc',\n",
        "    'random_state': 42\n",
        "}\n",
        "\n",
        "dtrain = xgb.DMatrix(X_train, label=y_train)\n",
        "dval = xgb.DMatrix(X_val, label=y_val)\n",
        "\n",
        "# Initial training\n",
        "bst_model = xgb.train(params, dtrain, num_boost_round=200, evals=[(dval, 'eval')], early_stopping_rounds=15, verbose_eval=False)\n",
        "\n",
        "# Make predictions on the validation set\n",
        "y_pred_proba = bst_model.predict(dval)\n",
        "\n",
        "# Select optimal threshold (e.g., 0.3) based on previous analysis\n",
        "optimal_threshold = 0.3\n",
        "y_pred_optimal = (y_pred_proba > optimal_threshold).astype(int)\n",
        "\n",
        "# Confusion Matrix and Classification Report at Optimal Threshold\n",
        "accuracy_optimal = accuracy_score(y_val, y_pred_optimal)\n",
        "classification_rep_optimal = classification_report(y_val, y_pred_optimal)\n",
        "conf_matrix_optimal = confusion_matrix(y_val, y_pred_optimal)\n",
        "\n",
        "print(\"Model Accuracy (Optimal Threshold):\", accuracy_optimal)\n",
        "print(\"Classification Report (Optimal Threshold):\")\n",
        "print(classification_rep_optimal)\n",
        "\n",
        "# Display Confusion Matrix\n",
        "plt.figure(figsize=(8, 6))\n",
        "sns.heatmap(conf_matrix_optimal, annot=True, fmt='d', cmap='Blues', xticklabels=['Non-Fraud', 'Fraud'], yticklabels=['Non-Fraud', 'Fraud'])\n",
        "plt.xlabel('Predicted')\n",
        "plt.ylabel('Actual')\n",
        "plt.title(f'Confusion Matrix for XGBoost')\n",
        "plt.show()\n",
        "\n",
        "# Data Drift Monitoring with PSI\n",
        "def calculate_psi(expected, actual, bins=10):\n",
        "    expected_percents, _ = np.histogram(expected, bins=bins, density=True)\n",
        "    actual_percents, _ = np.histogram(actual, bins=bins, density=True)\n",
        "    psi_values = (expected_percents - actual_percents) * np.log(expected_percents / actual_percents)\n",
        "    psi = np.sum(psi_values)\n",
        "    return psi\n",
        "\n",
        "print(\"\\n--- Data Drift Monitoring using PSI ---\")\n",
        "drift_threshold = 0.2\n",
        "for feature in X.columns:\n",
        "    psi_value = calculate_psi(X_train[feature], X_val[feature])\n",
        "    print(f\"PSI for {feature}: {psi_value}\")\n",
        "    if psi_value > drift_threshold:\n",
        "        print(f\"Significant drift detected in feature '{feature}' (PSI: {psi_value})\")"
      ]
    },
    {
      "cell_type": "code",
      "source": [
        "import numpy as np\n",
        "import pandas as pd\n",
        "import matplotlib.pyplot as plt\n",
        "import seaborn as sns\n",
        "\n",
        "# Load the Synthetic Fraud Dataset\n",
        "synthetic_financial = pd.read_csv('Synthetic_Financial_datasets_log.csv')\n",
        "\n",
        "# Define features and target\n",
        "X = synthetic_financial[['amount', 'oldbalanceOrg', 'newbalanceOrig', 'oldbalanceDest', 'newbalanceDest']]\n",
        "y = synthetic_financial['isFraud']\n",
        "\n",
        "# Feature Engineering\n",
        "X['balance_diff'] = X['newbalanceOrig'] - X['oldbalanceOrg']\n",
        "X['dest_balance_diff'] = X['newbalanceDest'] - X['oldbalanceDest']\n",
        "X['transaction_ratio'] = X['amount'] / (X['oldbalanceOrg'] + 1e-9)  # Avoid division by zero\n",
        "\n",
        "# Normalize features\n",
        "from sklearn.preprocessing import StandardScaler\n",
        "scaler = StandardScaler()\n",
        "X_normalized = pd.DataFrame(scaler.fit_transform(X), columns=X.columns)\n",
        "\n",
        "# Split data into training and validation sets\n",
        "from sklearn.model_selection import train_test_split\n",
        "X_train, X_val, y_train, y_val = train_test_split(X_normalized, y, test_size=0.3, random_state=42)\n",
        "\n",
        "# Data Drift Monitoring with PSI\n",
        "def calculate_psi(expected, actual, bins=10):\n",
        "    expected_percents, _ = np.histogram(expected, bins=bins, density=True)\n",
        "    actual_percents, _ = np.histogram(actual, bins=bins, density=True)\n",
        "    psi_values = (expected_percents - actual_percents) * np.log(expected_percents / actual_percents)\n",
        "    psi = np.sum(psi_values)\n",
        "    return psi\n",
        "\n",
        "# Calculate PSI for each feature\n",
        "print(\"\\n--- Data Drift Monitoring using PSI ---\")\n",
        "drift_threshold = 0.2\n",
        "for feature in X.columns:\n",
        "    psi_value = calculate_psi(X_train[feature], X_val[feature])\n",
        "    print(f\"PSI for {feature}: {psi_value}\")\n",
        "    if psi_value > drift_threshold:\n",
        "        print(f\"Significant drift detected in feature '{feature}' (PSI: {psi_value})\")\n",
        "\n",
        "# Plot feature distribution for 'transaction_ratio' before and after drift\n",
        "plt.figure(figsize=(12, 6))\n",
        "\n",
        "# Plot before drift (Training Data)\n",
        "sns.kdeplot(X_train['transaction_ratio'], label='Training Data', shade=True, color='blue')\n",
        "\n",
        "# Plot after drift (Validation Data)\n",
        "sns.kdeplot(X_val['transaction_ratio'], label='Validation Data', shade=True, color='red')\n",
        "\n",
        "plt.title('Feature Distribution of Transaction Ratio: Before and After Drift')\n",
        "plt.xlabel('Transaction Ratio')\n",
        "plt.ylabel('Density')\n",
        "plt.xlim(0, 10)  # Adjust x-axis range to focus on the main distribution\n",
        "plt.legend()\n",
        "plt.show()"
      ],
      "metadata": {
        "colab": {
          "base_uri": "https://localhost:8080/",
          "height": 1000
        },
        "id": "huUl1V6i7s8T",
        "outputId": "dd86219b-b3cc-48b2-a5aa-c03527f3f032"
      },
      "execution_count": null,
      "outputs": [
        {
          "output_type": "stream",
          "name": "stderr",
          "text": [
            "<ipython-input-7-32d134dd7074>:14: SettingWithCopyWarning: \n",
            "A value is trying to be set on a copy of a slice from a DataFrame.\n",
            "Try using .loc[row_indexer,col_indexer] = value instead\n",
            "\n",
            "See the caveats in the documentation: https://pandas.pydata.org/pandas-docs/stable/user_guide/indexing.html#returning-a-view-versus-a-copy\n",
            "  X['balance_diff'] = X['newbalanceOrig'] - X['oldbalanceOrg']\n",
            "<ipython-input-7-32d134dd7074>:15: SettingWithCopyWarning: \n",
            "A value is trying to be set on a copy of a slice from a DataFrame.\n",
            "Try using .loc[row_indexer,col_indexer] = value instead\n",
            "\n",
            "See the caveats in the documentation: https://pandas.pydata.org/pandas-docs/stable/user_guide/indexing.html#returning-a-view-versus-a-copy\n",
            "  X['dest_balance_diff'] = X['newbalanceDest'] - X['oldbalanceDest']\n",
            "<ipython-input-7-32d134dd7074>:16: SettingWithCopyWarning: \n",
            "A value is trying to be set on a copy of a slice from a DataFrame.\n",
            "Try using .loc[row_indexer,col_indexer] = value instead\n",
            "\n",
            "See the caveats in the documentation: https://pandas.pydata.org/pandas-docs/stable/user_guide/indexing.html#returning-a-view-versus-a-copy\n",
            "  X['transaction_ratio'] = X['amount'] / (X['oldbalanceOrg'] + 1e-9)  # Avoid division by zero\n"
          ]
        },
        {
          "output_type": "stream",
          "name": "stdout",
          "text": [
            "\n",
            "--- Data Drift Monitoring using PSI ---\n",
            "PSI for amount: inf\n",
            "Significant drift detected in feature 'amount' (PSI: inf)\n"
          ]
        },
        {
          "output_type": "stream",
          "name": "stderr",
          "text": [
            "<ipython-input-7-32d134dd7074>:31: RuntimeWarning: divide by zero encountered in log\n",
            "  psi_values = (expected_percents - actual_percents) * np.log(expected_percents / actual_percents)\n"
          ]
        },
        {
          "output_type": "stream",
          "name": "stdout",
          "text": [
            "PSI for oldbalanceOrg: 0.000896312089842613\n",
            "PSI for newbalanceOrig: 0.0016444256164145662\n",
            "PSI for oldbalanceDest: 9.572023321632998e-07\n",
            "PSI for newbalanceDest: 2.5395089827414046e-07\n",
            "PSI for balance_diff: 9.923707149877757e-05\n",
            "PSI for dest_balance_diff: 1.2493797305961025\n",
            "Significant drift detected in feature 'dest_balance_diff' (PSI: 1.2493797305961025)\n",
            "PSI for transaction_ratio: inf\n",
            "Significant drift detected in feature 'transaction_ratio' (PSI: inf)\n"
          ]
        },
        {
          "output_type": "stream",
          "name": "stderr",
          "text": [
            "<ipython-input-7-32d134dd7074>:48: FutureWarning: \n",
            "\n",
            "`shade` is now deprecated in favor of `fill`; setting `fill=True`.\n",
            "This will become an error in seaborn v0.14.0; please update your code.\n",
            "\n",
            "  sns.kdeplot(X_train['transaction_ratio'], label='Training Data', shade=True, color='blue')\n",
            "<ipython-input-7-32d134dd7074>:51: FutureWarning: \n",
            "\n",
            "`shade` is now deprecated in favor of `fill`; setting `fill=True`.\n",
            "This will become an error in seaborn v0.14.0; please update your code.\n",
            "\n",
            "  sns.kdeplot(X_val['transaction_ratio'], label='Validation Data', shade=True, color='red')\n"
          ]
        },
        {
          "output_type": "display_data",
          "data": {
            "text/plain": [
              "<Figure size 1200x600 with 1 Axes>"
            ],
            "image/png": "[encoded data removed]"
          },
          "metadata": {}
        }
      ]
    },
    {
      "cell_type": "code",
      "execution_count": null,
      "metadata": {
        "colab": {
          "background_save": true,
          "base_uri": "https://localhost:8080/"
        },
        "id": "Aifjwb7_Eflq",
        "outputId": "497ed549-6ee7-40dc-d3c2-599b55f160b3"
      },
      "outputs": [
        {
          "name": "stdout",
          "output_type": "stream",
          "text": [
            "Dataset Overview:\n",
            "   step      type    amount     nameOrig  oldbalanceOrg  newbalanceOrig  \\\n",
            "0     1   PAYMENT   9839.64  C1231006815       170136.0       160296.36   \n",
            "1     1   PAYMENT   1864.28  C1666544295        21249.0        19384.72   \n",
            "2     1  TRANSFER    181.00  C1305486145          181.0            0.00   \n",
            "3     1  CASH_OUT    181.00   C840083671          181.0            0.00   \n",
            "4     1   PAYMENT  11668.14  C2048537720        41554.0        29885.86   \n",
            "\n",
            "      nameDest  oldbalanceDest  newbalanceDest  isFraud  isFlaggedFraud  \n",
            "0  M1979787155             0.0             0.0        0               0  \n",
            "1  M2044282225             0.0             0.0        0               0  \n",
            "2   C553264065             0.0             0.0        1               0  \n",
            "3    C38997010         21182.0             0.0        1               0  \n",
            "4  M1230701703             0.0             0.0        0               0  \n",
            "<class 'pandas.core.frame.DataFrame'>\n",
            "RangeIndex: 6362620 entries, 0 to 6362619\n",
            "Data columns (total 11 columns):\n",
            " #   Column          Dtype  \n",
            "---  ------          -----  \n",
            " 0   step            int64  \n",
            " 1   type            object \n",
            " 2   amount          float64\n",
            " 3   nameOrig        object \n",
            " 4   oldbalanceOrg   float64\n",
            " 5   newbalanceOrig  float64\n",
            " 6   nameDest        object \n",
            " 7   oldbalanceDest  float64\n",
            " 8   newbalanceDest  float64\n",
            " 9   isFraud         int64  \n",
            " 10  isFlaggedFraud  int64  \n",
            "dtypes: float64(5), int64(3), object(3)\n",
            "memory usage: 534.0+ MB\n",
            "None\n"
          ]
        },
        {
          "name": "stderr",
          "output_type": "stream",
          "text": [
            "<ipython-input-1-e73cbb5b8849>:25: SettingWithCopyWarning: \n",
            "A value is trying to be set on a copy of a slice from a DataFrame.\n",
            "Try using .loc[row_indexer,col_indexer] = value instead\n",
            "\n",
            "See the caveats in the documentation: https://pandas.pydata.org/pandas-docs/stable/user_guide/indexing.html#returning-a-view-versus-a-copy\n",
            "  X['balance_diff'] = X['newbalanceOrig'] - X['oldbalanceOrg']\n",
            "<ipython-input-1-e73cbb5b8849>:26: SettingWithCopyWarning: \n",
            "A value is trying to be set on a copy of a slice from a DataFrame.\n",
            "Try using .loc[row_indexer,col_indexer] = value instead\n",
            "\n",
            "See the caveats in the documentation: https://pandas.pydata.org/pandas-docs/stable/user_guide/indexing.html#returning-a-view-versus-a-copy\n",
            "  X['dest_balance_diff'] = X['newbalanceDest'] - X['oldbalanceDest']\n",
            "<ipython-input-1-e73cbb5b8849>:27: SettingWithCopyWarning: \n",
            "A value is trying to be set on a copy of a slice from a DataFrame.\n",
            "Try using .loc[row_indexer,col_indexer] = value instead\n",
            "\n",
            "See the caveats in the documentation: https://pandas.pydata.org/pandas-docs/stable/user_guide/indexing.html#returning-a-view-versus-a-copy\n",
            "  X['transaction_ratio'] = X['amount'] / (X['oldbalanceOrg'] + 1e-9)  # Avoid division by zero\n"
          ]
        }
      ],
      "source": [
        "# Step 1: Import Libraries\n",
        "import pandas as pd\n",
        "import numpy as np\n",
        "from sklearn.model_selection import train_test_split\n",
        "from sklearn.svm import SVC\n",
        "from sklearn.preprocessing import StandardScaler\n",
        "from sklearn.metrics import classification_report, confusion_matrix, roc_auc_score\n",
        "import matplotlib.pyplot as plt\n",
        "import seaborn as sns\n",
        "\n",
        "# Step 2: Load the Dataset\n",
        "# Replace with the correct path if needed\n",
        "synthetic_financial = pd.read_csv('Synthetic_Financial_datasets_log.csv')\n",
        "\n",
        "# Quick overview of the dataset\n",
        "print(\"Dataset Overview:\")\n",
        "print(synthetic_financial.head())\n",
        "print(synthetic_financial.info())\n",
        "\n",
        "# Step 3: Define Features and Target\n",
        "X = synthetic_financial[['amount', 'oldbalanceOrg', 'newbalanceOrig', 'oldbalanceDest', 'newbalanceDest']]\n",
        "y = synthetic_financial['isFraud']\n",
        "\n",
        "# Step 4: Feature Engineering\n",
        "X['balance_diff'] = X['newbalanceOrig'] - X['oldbalanceOrg']\n",
        "X['dest_balance_diff'] = X['newbalanceDest'] - X['oldbalanceDest']\n",
        "X['transaction_ratio'] = X['amount'] / (X['oldbalanceOrg'] + 1e-9)  # Avoid division by zero\n",
        "\n",
        "# Step 5: Normalize Features\n",
        "scaler = StandardScaler()\n",
        "X_normalized = pd.DataFrame(scaler.fit_transform(X), columns=X.columns)\n",
        "\n",
        "# Step 6: Train-Test Split\n",
        "X_train, X_val, y_train, y_val = train_test_split(X_normalized, y, test_size=0.3, random_state=42)\n",
        "\n",
        "# Step 7: Train and Evaluate SVM (RBF Kernel)\n",
        "svm_rbf = SVC(kernel='rbf', probability=True, class_weight='balanced', random_state=42)\n",
        "svm_rbf.fit(X_train, y_train)\n",
        "\n",
        "# Predictions\n",
        "y_pred_svm_rbf = svm_rbf.predict(X_val)\n",
        "y_pred_prob_svm_rbf = svm_rbf.predict_proba(X_val)[:, 1]\n",
        "\n",
        "# Evaluation Metrics for SVM (RBF Kernel)\n",
        "print(\"\\nSVM (RBF Kernel) Results:\")\n",
        "print(\"Classification Report:\")\n",
        "print(classification_report(y_val, y_pred_svm_rbf))\n",
        "print(\"Confusion Matrix:\")\n",
        "print(confusion_matrix(y_val, y_pred_svm_rbf))\n",
        "print(f\"AUC-ROC: {roc_auc_score(y_val, y_pred_prob_svm_rbf):.4f}\")\n",
        "\n",
        "# Plot Confusion Matrix\n",
        "plt.figure(figsize=(8, 6))\n",
        "sns.heatmap(confusion_matrix(y_val, y_pred_svm_rbf), annot=True, fmt='d', cmap='Blues',\n",
        "            xticklabels=['Non-Fraud', 'Fraud'], yticklabels=['Non-Fraud', 'Fraud'])\n",
        "plt.xlabel('Predicted')\n",
        "plt.ylabel('Actual')\n",
        "plt.title('Confusion Matrix: SVM (RBF Kernel)')\n",
        "plt.show()\n",
        "\n",
        "# Step 8: Train and Evaluate SVM (Linear Kernel)\n",
        "svm_linear = SVC(kernel='linear', probability=True, class_weight='balanced', random_state=42)\n",
        "svm_linear.fit(X_train, y_train)\n",
        "\n",
        "# Predictions\n",
        "y_pred_svm_linear = svm_linear.predict(X_val)\n",
        "y_pred_prob_svm_linear = svm_linear.predict_proba(X_val)[:, 1]\n",
        "\n",
        "# Evaluation Metrics for SVM (Linear Kernel)\n",
        "print(\"\\nSVM (Linear Kernel) Results:\")\n",
        "print(\"Classification Report:\")\n",
        "print(classification_report(y_val, y_pred_svm_linear))\n",
        "print(\"Confusion Matrix:\")\n",
        "print(confusion_matrix(y_val, y_pred_svm_linear))\n",
        "print(f\"AUC-ROC: {roc_auc_score(y_val, y_pred_prob_svm_linear):.4f}\")\n",
        "\n",
        "# Plot Confusion Matrix\n",
        "plt.figure(figsize=(8, 6))\n",
        "sns.heatmap(confusion_matrix(y_val, y_pred_svm_linear), annot=True, fmt='d', cmap='Blues',\n",
        "            xticklabels=['Non-Fraud', 'Fraud'], yticklabels=['Non-Fraud', 'Fraud'])\n",
        "plt.xlabel('Predicted')\n",
        "plt.ylabel('Actual')\n",
        "plt.title('Confusion Matrix: SVM (Linear Kernel)')\n",
        "plt.show()\n"
      ]
    },
    {
      "cell_type": "code",
      "execution_count": null,
      "metadata": {
        "id": "lR95KHVr-79N"
      },
      "outputs": [],
      "source": []
    },
    {
      "cell_type": "code",
      "execution_count": null,
      "metadata": {
        "id": "XF_-C50T-tSW"
      },
      "outputs": [],
      "source": []
    },
    {
      "cell_type": "code",
      "execution_count": null,
      "metadata": {
        "id": "arna3SeJ-tXw"
      },
      "outputs": [],
      "source": []
    },
    {
      "cell_type": "code",
      "execution_count": null,
      "metadata": {
        "id": "kNptwAe9-tcI"
      },
      "outputs": [],
      "source": []
    }
  ],
  "metadata": {
    "colab": {
      "provenance": []
    },
    "kernelspec": {
      "display_name": "Python 3",
      "name": "python3"
    },
    "language_info": {
      "name": "python"
    }
  },
  "nbformat": 4,
  "nbformat_minor": 0
}